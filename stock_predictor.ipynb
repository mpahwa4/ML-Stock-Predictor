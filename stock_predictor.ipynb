{
 "cells": [
  {
   "cell_type": "code",
   "execution_count": 1,
   "metadata": {},
   "outputs": [],
   "source": [
    "import yfinance as yf\n",
    "import pandas as pd"
   ]
  },
  {
   "cell_type": "code",
   "execution_count": 2,
   "metadata": {},
   "outputs": [],
   "source": [
    "# accessing S&P500 data using yahoo finance API\n",
    "sp500 = yf.Ticker(\"^GSPC\")\n",
    "sp500 = sp500.history(period='max')"
   ]
  },
  {
   "cell_type": "code",
   "execution_count": 3,
   "metadata": {},
   "outputs": [
    {
     "data": {
      "text/plain": [
       "<Axes: xlabel='Date'>"
      ]
     },
     "execution_count": 3,
     "metadata": {},
     "output_type": "execute_result"
    },
    {
     "data": {
      "image/png": "[encoded data removed]",
      "text/plain": [
       "<Figure size 640x480 with 1 Axes>"
      ]
     },
     "metadata": {},
     "output_type": "display_data"
    }
   ],
   "source": [
    "# plotting historical close price over time\n",
    "sp500.plot.line(y=\"Close\",use_index=True)"
   ]
  },
  {
   "cell_type": "code",
   "execution_count": 4,
   "metadata": {},
   "outputs": [],
   "source": [
    "# cleaning data - deleting unwanted columns\n",
    "del sp500[\"Dividends\"]\n",
    "del sp500[\"Stock Splits\"]"
   ]
  },
  {
   "cell_type": "code",
   "execution_count": 5,
   "metadata": {},
   "outputs": [
    {
     "data": {
      "text/html": [
       "<div>\n",
       "<style scoped>\n",
       "    .dataframe tbody tr th:only-of-type {\n",
       "        vertical-align: middle;\n",
       "    }\n",
       "\n",
       "    .dataframe tbody tr th {\n",
       "        vertical-align: top;\n",
       "    }\n",
       "\n",
       "    .dataframe thead th {\n",
       "        text-align: right;\n",
       "    }\n",
       "</style>\n",
       "<table border=\"1\" class=\"dataframe\">\n",
       "  <thead>\n",
       "    <tr style=\"text-align: right;\">\n",
       "      <th></th>\n",
       "      <th>Open</th>\n",
       "      <th>High</th>\n",
       "      <th>Low</th>\n",
       "      <th>Close</th>\n",
       "      <th>Volume</th>\n",
       "      <th>Future Price (Tomorrow)</th>\n",
       "    </tr>\n",
       "    <tr>\n",
       "      <th>Date</th>\n",
       "      <th></th>\n",
       "      <th></th>\n",
       "      <th></th>\n",
       "      <th></th>\n",
       "      <th></th>\n",
       "      <th></th>\n",
       "    </tr>\n",
       "  </thead>\n",
       "  <tbody>\n",
       "    <tr>\n",
       "      <th>1927-12-30 00:00:00-05:00</th>\n",
       "      <td>17.660000</td>\n",
       "      <td>17.660000</td>\n",
       "      <td>17.660000</td>\n",
       "      <td>17.660000</td>\n",
       "      <td>0</td>\n",
       "      <td>17.760000</td>\n",
       "    </tr>\n",
       "    <tr>\n",
       "      <th>1928-01-03 00:00:00-05:00</th>\n",
       "      <td>17.760000</td>\n",
       "      <td>17.760000</td>\n",
       "      <td>17.760000</td>\n",
       "      <td>17.760000</td>\n",
       "      <td>0</td>\n",
       "      <td>17.719999</td>\n",
       "    </tr>\n",
       "    <tr>\n",
       "      <th>1928-01-04 00:00:00-05:00</th>\n",
       "      <td>17.719999</td>\n",
       "      <td>17.719999</td>\n",
       "      <td>17.719999</td>\n",
       "      <td>17.719999</td>\n",
       "      <td>0</td>\n",
       "      <td>17.549999</td>\n",
       "    </tr>\n",
       "    <tr>\n",
       "      <th>1928-01-05 00:00:00-05:00</th>\n",
       "      <td>17.549999</td>\n",
       "      <td>17.549999</td>\n",
       "      <td>17.549999</td>\n",
       "      <td>17.549999</td>\n",
       "      <td>0</td>\n",
       "      <td>17.660000</td>\n",
       "    </tr>\n",
       "    <tr>\n",
       "      <th>1928-01-06 00:00:00-05:00</th>\n",
       "      <td>17.660000</td>\n",
       "      <td>17.660000</td>\n",
       "      <td>17.660000</td>\n",
       "      <td>17.660000</td>\n",
       "      <td>0</td>\n",
       "      <td>17.500000</td>\n",
       "    </tr>\n",
       "    <tr>\n",
       "      <th>...</th>\n",
       "      <td>...</td>\n",
       "      <td>...</td>\n",
       "      <td>...</td>\n",
       "      <td>...</td>\n",
       "      <td>...</td>\n",
       "      <td>...</td>\n",
       "    </tr>\n",
       "    <tr>\n",
       "      <th>2023-10-02 00:00:00-04:00</th>\n",
       "      <td>4284.520020</td>\n",
       "      <td>4300.580078</td>\n",
       "      <td>4260.209961</td>\n",
       "      <td>4288.390137</td>\n",
       "      <td>3938660000</td>\n",
       "      <td>4229.450195</td>\n",
       "    </tr>\n",
       "    <tr>\n",
       "      <th>2023-10-03 00:00:00-04:00</th>\n",
       "      <td>4269.750000</td>\n",
       "      <td>4281.149902</td>\n",
       "      <td>4216.450195</td>\n",
       "      <td>4229.450195</td>\n",
       "      <td>3953830000</td>\n",
       "      <td>4263.750000</td>\n",
       "    </tr>\n",
       "    <tr>\n",
       "      <th>2023-10-04 00:00:00-04:00</th>\n",
       "      <td>4233.830078</td>\n",
       "      <td>4268.500000</td>\n",
       "      <td>4220.479980</td>\n",
       "      <td>4263.750000</td>\n",
       "      <td>3777600000</td>\n",
       "      <td>4258.189941</td>\n",
       "    </tr>\n",
       "    <tr>\n",
       "      <th>2023-10-05 00:00:00-04:00</th>\n",
       "      <td>4259.310059</td>\n",
       "      <td>4267.129883</td>\n",
       "      <td>4225.910156</td>\n",
       "      <td>4258.189941</td>\n",
       "      <td>3581470000</td>\n",
       "      <td>4308.500000</td>\n",
       "    </tr>\n",
       "    <tr>\n",
       "      <th>2023-10-06 00:00:00-04:00</th>\n",
       "      <td>4234.790039</td>\n",
       "      <td>4324.100098</td>\n",
       "      <td>4219.549805</td>\n",
       "      <td>4308.500000</td>\n",
       "      <td>3902030000</td>\n",
       "      <td>NaN</td>\n",
       "    </tr>\n",
       "  </tbody>\n",
       "</table>\n",
       "<p>24057 rows × 6 columns</p>\n",
       "</div>"
      ],
      "text/plain": [
       "                                  Open         High          Low        Close  \\\n",
       "Date                                                                            \n",
       "1927-12-30 00:00:00-05:00    17.660000    17.660000    17.660000    17.660000   \n",
       "1928-01-03 00:00:00-05:00    17.760000    17.760000    17.760000    17.760000   \n",
       "1928-01-04 00:00:00-05:00    17.719999    17.719999    17.719999    17.719999   \n",
       "1928-01-05 00:00:00-05:00    17.549999    17.549999    17.549999    17.549999   \n",
       "1928-01-06 00:00:00-05:00    17.660000    17.660000    17.660000    17.660000   \n",
       "...                                ...          ...          ...          ...   \n",
       "2023-10-02 00:00:00-04:00  4284.520020  4300.580078  4260.209961  4288.390137   \n",
       "2023-10-03 00:00:00-04:00  4269.750000  4281.149902  4216.450195  4229.450195   \n",
       "2023-10-04 00:00:00-04:00  4233.830078  4268.500000  4220.479980  4263.750000   \n",
       "2023-10-05 00:00:00-04:00  4259.310059  4267.129883  4225.910156  4258.189941   \n",
       "2023-10-06 00:00:00-04:00  4234.790039  4324.100098  4219.549805  4308.500000   \n",
       "\n",
       "                               Volume  Future Price (Tomorrow)  \n",
       "Date                                                            \n",
       "1927-12-30 00:00:00-05:00           0                17.760000  \n",
       "1928-01-03 00:00:00-05:00           0                17.719999  \n",
       "1928-01-04 00:00:00-05:00           0                17.549999  \n",
       "1928-01-05 00:00:00-05:00           0                17.660000  \n",
       "1928-01-06 00:00:00-05:00           0                17.500000  \n",
       "...                               ...                      ...  \n",
       "2023-10-02 00:00:00-04:00  3938660000              4229.450195  \n",
       "2023-10-03 00:00:00-04:00  3953830000              4263.750000  \n",
       "2023-10-04 00:00:00-04:00  3777600000              4258.189941  \n",
       "2023-10-05 00:00:00-04:00  3581470000              4308.500000  \n",
       "2023-10-06 00:00:00-04:00  3902030000                      NaN  \n",
       "\n",
       "[24057 rows x 6 columns]"
      ]
     },
     "execution_count": 5,
     "metadata": {},
     "output_type": "execute_result"
    }
   ],
   "source": [
    "# shifted columns up to show historically what the next day's price was\n",
    "sp500[\"Future Price (Tomorrow)\"] = sp500[\"Close\"].shift(-1)\n",
    "sp500"
   ]
  },
  {
   "cell_type": "code",
   "execution_count": 6,
   "metadata": {},
   "outputs": [],
   "source": [
    "# add a column to indicated if stock price went up or not\n",
    "sp500[\"Price Increase?\"] = (sp500[\"Future Price (Tomorrow)\"] > sp500[\"Close\"]).astype(int)\n"
   ]
  },
  {
   "cell_type": "code",
   "execution_count": 7,
   "metadata": {},
   "outputs": [],
   "source": [
    "# discard all data before 1990\n",
    "sp500 = sp500.loc[\"1990-01-01\":].copy()"
   ]
  },
  {
   "cell_type": "code",
   "execution_count": 8,
   "metadata": {},
   "outputs": [],
   "source": [
    "def predict(train,test,predictors, model):\n",
    "     model.fit(train[predictors], train[\"Price Increase?\"])\n",
    "\n",
    "     preds = model.predict_proba(test[predictors])[:,1]\n",
    "     preds[preds >= 0.6] = 1 # be more confident about price going up\n",
    "     preds[preds < 0.6] = 0\n",
    "     preds = pd.Series(preds, index=test.index, name = \"Predictions\")\n",
    "\n",
    "     combined = pd.concat([test[\"Price Increase?\"], preds], axis=1)\n",
    "     return combined\n",
    "\n",
    "# ~250 trading days per year, so train on 10 years of data\n",
    "def backtest(data, model, predictors, start=2500, step=250):\n",
    "    all_predictions = []\n",
    "    for i in range(start, data.shape[0], step):\n",
    "        train = data.iloc[0:i].copy() # train throughout the years \n",
    "        test = data.iloc[i:(i+step)] # test against next year\n",
    "        predictions = predict(train, test, predictors, model)\n",
    "        all_predictions.append(predictions)\n",
    "\n",
    "    return pd.concat(all_predictions)"
   ]
  },
  {
   "cell_type": "code",
   "execution_count": 9,
   "metadata": {},
   "outputs": [],
   "source": [
    "horizons = [2,5,60,250,1000]\n",
    "new_predictors = []\n",
    "for horizon in horizons:\n",
    "    rolling_averages = sp500.rolling(horizon).mean()\n",
    "\n",
    "    ratio_column = f\"Close Ratio {horizon}\"\n",
    "    sp500[ratio_column] = sp500[\"Close\"]/rolling_averages[\"Close\"]\n",
    "\n",
    "    trend_column = f\"Trend {horizon}\"\n",
    "    sp500[trend_column] = sp500.shift(1).rolling(horizon).sum()[\"Price Increase?\"]\n",
    "\n",
    "    new_predictors += [ratio_column, trend_column]"
   ]
  },
  {
   "cell_type": "code",
   "execution_count": 10,
   "metadata": {},
   "outputs": [],
   "source": [
    "sp500 = sp500.dropna()"
   ]
  },
  {
   "cell_type": "code",
   "execution_count": 11,
   "metadata": {},
   "outputs": [],
   "source": [
    "from sklearn.metrics import precision_score\n",
    "from sklearn.ensemble import RandomForestClassifier\n",
    "\n",
    "model = RandomForestClassifier(n_estimators=200, min_samples_split=50, random_state=1)"
   ]
  },
  {
   "cell_type": "code",
   "execution_count": 12,
   "metadata": {},
   "outputs": [],
   "source": [
    "predictions = backtest(sp500, model, new_predictors)"
   ]
  },
  {
   "cell_type": "code",
   "execution_count": 15,
   "metadata": {},
   "outputs": [
    {
     "name": "stdout",
     "output_type": "stream",
     "text": [
      "Predictions\n",
      "0.0    5004\n",
      "1.0       2\n",
      "Name: count, dtype: int64\n"
     ]
    },
    {
     "data": {
      "text/plain": [
       "1.0"
      ]
     },
     "execution_count": 15,
     "metadata": {},
     "output_type": "execute_result"
    }
   ],
   "source": [
    "print(predictions[\"Predictions\"].value_counts())\n",
    "precision_score(predictions[\"Price Increase?\"], predictions[\"Predictions\"])"
   ]
  }
 ],
 "metadata": {
  "kernelspec": {
   "display_name": "Python 3",
   "language": "python",
   "name": "python3"
  },
  "language_info": {
   "codemirror_mode": {
    "name": "ipython",
    "version": 3
   },
   "file_extension": ".py",
   "mimetype": "text/x-python",
   "name": "python",
   "nbconvert_exporter": "python",
   "pygments_lexer": "ipython3",
   "version": "3.9.0"
  },
  "orig_nbformat": 4
 },
 "nbformat": 4,
 "nbformat_minor": 2
}
